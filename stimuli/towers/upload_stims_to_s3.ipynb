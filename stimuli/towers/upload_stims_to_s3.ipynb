{
 "cells": [
  {
   "cell_type": "markdown",
   "metadata": {},
   "source": [
    "# Upload tower stimuli to s3"
   ]
  },
  {
   "cell_type": "code",
   "execution_count": 7,
   "metadata": {},
   "outputs": [],
   "source": [
    "#Which experiment? bucket_name is the name of the experiment and will be name of the databases both on mongoDB and S3\n",
    "\n",
    "# 4 block towers\n",
    "bucket_name = 'lax-tower-4-block-unique-silhouettes-color-png' #containment\n",
    "stim_version = 'tower_4_block_unique_silhouettes_color_png'\n",
    "\n",
    "\n",
    "# composites (includes ambiguous stims twice)\n",
    "# bucket_name = 'lax-tower-4-block-unique-silhouettes-composites-json' #containment\n",
    "# stim_version = 'tower_4_block_unique_silhouettes_composites_json'"
   ]
  },
  {
   "cell_type": "code",
   "execution_count": 8,
   "metadata": {},
   "outputs": [],
   "source": [
    "import os\n",
    "from glob import glob\n",
    "import boto3\n",
    "import botocore\n",
    "from IPython.display import clear_output\n",
    "import json\n",
    "import pandas as pd\n",
    "from PIL import Image"
   ]
  },
  {
   "cell_type": "code",
   "execution_count": 9,
   "metadata": {},
   "outputs": [],
   "source": [
    "def list_files(paths, ext='png'):\n",
    "    \"\"\"Pass list of folders if there are stimuli in multiple folders. \n",
    "    Make sure that the containing folder is informative, as the rest of the path is ignored in naming. \n",
    "    Also returns filenames as uploaded to S3\"\"\"\n",
    "    if type(paths) is not list:\n",
    "        paths = [paths]\n",
    "    results = []\n",
    "    names = []\n",
    "    for path in paths:\n",
    "        results += [y for x in os.walk(path) for y in glob(os.path.join(x[0], '*.%s' % ext))]\n",
    "        names += [os.path.split(y)[1] for x in os.walk(path) for y in glob(os.path.join(x[0], '*.%s' % ext))]\n",
    "    return results,names"
   ]
  },
  {
   "cell_type": "code",
   "execution_count": 10,
   "metadata": {},
   "outputs": [],
   "source": [
    "## helper to speed things up by not uploading images if they already exist, can be overriden \n",
    "def check_exists(s3, bucket_name, stim_name):\n",
    "    try:\n",
    "        s3.Object(bucket_name,stim_name).load()    \n",
    "        return True\n",
    "    except botocore.exceptions.ClientError as e:    \n",
    "        if (e.response['Error']['Code'] == \"404\"):\n",
    "            print('The object does not exist.')\n",
    "            return False\n",
    "        else:\n",
    "            print('Something else has gone wrong with {}'.format(stim_name))"
   ]
  },
  {
   "cell_type": "markdown",
   "metadata": {},
   "source": [
    "Pass list of folders if there are stimuli in multiple folders. Make sure that the containing folder is informative, as the rest of the path is ignored in naming."
   ]
  },
  {
   "cell_type": "code",
   "execution_count": 11,
   "metadata": {},
   "outputs": [
    {
     "name": "stdout",
     "output_type": "stream",
     "text": [
      "We have 130 stimuli to upload.\n"
     ]
    }
   ],
   "source": [
    "## set up paths, etc.\n",
    "# paths_to_stim = ['./example'] ## provide a list of full paths here.\n",
    "paths_to_stim = [\n",
    "    \n",
    "    # tower silhouettes\n",
    "    \"./\" + stim_version,\n",
    "    \n",
    "]\n",
    "\n",
    "# paths_to_stim = glob.glob()\n",
    "full_stim_paths, filenames = [x for x in list_files(paths_to_stim) if x !='.DS_Store'] #generate filenames and stimpaths\n",
    "print('We have {} stimuli to upload.'.format(len(full_stim_paths)))"
   ]
  },
  {
   "cell_type": "markdown",
   "metadata": {},
   "source": [
    "Upload to S3. This expects the `.aws/credentials` file in your home directory."
   ]
  },
  {
   "cell_type": "code",
   "execution_count": 12,
   "metadata": {},
   "outputs": [
    {
     "name": "stdout",
     "output_type": "stream",
     "text": [
      "Done!\n"
     ]
    }
   ],
   "source": [
    "reallyRun = True\n",
    "if reallyRun:\n",
    "\n",
    "    ## establish connection to s3 \n",
    "    s3 = boto3.resource('s3')\n",
    "\n",
    "    ## create a bucket with the appropriate bucket name\n",
    "    try: \n",
    "        b = s3.create_bucket(Bucket=bucket_name) \n",
    "        print('Created new bucket.')\n",
    "#     except NoCredentialsError:\n",
    "#         print(\"Credential missing\") #.aws/credentials should be in home folder, not in repo folder\n",
    "    except:\n",
    "        b = s3.Bucket(bucket_name)\n",
    "        print('Bucket already exists.')\n",
    "\n",
    "    ## do we want to overwrite files on s3?\n",
    "    overwrite = True\n",
    "    \n",
    "    ## set bucket and objects to public\n",
    "    b.Acl().put(ACL='public-read') ## sets bucket to public\n",
    "\n",
    "    ## now let's loop through stim paths and actually upload to s3 (woot!)\n",
    "    for i,path_to_file in enumerate(full_stim_paths):        # use sorted(full_stim_paths) when not using photodraw32\n",
    "        stim_name = filenames[i]\n",
    "        if ((check_exists(s3, bucket_name, stim_name)==False) | (overwrite==True)):\n",
    "            print('Now uploading {} as {} | {} of {}'.format(os.path.split(path_to_file)[-1],stim_name,(i+1),len(full_stim_paths)))\n",
    "            s3.Object(bucket_name,stim_name).put(Body=open(path_to_file,'rb')) ## upload stimuli\n",
    "            s3.Object(bucket_name,stim_name).Acl().put(ACL='public-read') ## set access controls\n",
    "        else: \n",
    "            print('Skipping {} | {} of {} because it already exists.'.format(os.path.split(path_to_file)[-1],(i+1),len(full_stim_paths)))\n",
    "        clear_output(wait=True)\n",
    "print('Done!')"
   ]
  },
  {
   "cell_type": "code",
   "execution_count": 14,
   "metadata": {},
   "outputs": [
    {
     "name": "stdout",
     "output_type": "stream",
     "text": [
      "s3.ObjectSummary(bucket_name='lax-tower-4-block-unique-silhouettes-color-png', key='tower_4_block_unique_silhouette_color_000.png')\n",
      "s3.ObjectSummary(bucket_name='lax-tower-4-block-unique-silhouettes-color-png', key='tower_4_block_unique_silhouette_color_001.png')\n",
      "s3.ObjectSummary(bucket_name='lax-tower-4-block-unique-silhouettes-color-png', key='tower_4_block_unique_silhouette_color_002.png')\n",
      "s3.ObjectSummary(bucket_name='lax-tower-4-block-unique-silhouettes-color-png', key='tower_4_block_unique_silhouette_color_003.png')\n",
      "s3.ObjectSummary(bucket_name='lax-tower-4-block-unique-silhouettes-color-png', key='tower_4_block_unique_silhouette_color_004.png')\n",
      "s3.ObjectSummary(bucket_name='lax-tower-4-block-unique-silhouettes-color-png', key='tower_4_block_unique_silhouette_color_005.png')\n",
      "s3.ObjectSummary(bucket_name='lax-tower-4-block-unique-silhouettes-color-png', key='tower_4_block_unique_silhouette_color_006.png')\n",
      "s3.ObjectSummary(bucket_name='lax-tower-4-block-unique-silhouettes-color-png', key='tower_4_block_unique_silhouette_color_007.png')\n",
      "s3.ObjectSummary(bucket_name='lax-tower-4-block-unique-silhouettes-color-png', key='tower_4_block_unique_silhouette_color_008.png')\n",
      "s3.ObjectSummary(bucket_name='lax-tower-4-block-unique-silhouettes-color-png', key='tower_4_block_unique_silhouette_color_009.png')\n",
      "s3.ObjectSummary(bucket_name='lax-tower-4-block-unique-silhouettes-color-png', key='tower_4_block_unique_silhouette_color_010.png')\n",
      "s3.ObjectSummary(bucket_name='lax-tower-4-block-unique-silhouettes-color-png', key='tower_4_block_unique_silhouette_color_011.png')\n",
      "s3.ObjectSummary(bucket_name='lax-tower-4-block-unique-silhouettes-color-png', key='tower_4_block_unique_silhouette_color_012.png')\n",
      "s3.ObjectSummary(bucket_name='lax-tower-4-block-unique-silhouettes-color-png', key='tower_4_block_unique_silhouette_color_013.png')\n",
      "s3.ObjectSummary(bucket_name='lax-tower-4-block-unique-silhouettes-color-png', key='tower_4_block_unique_silhouette_color_014.png')\n",
      "s3.ObjectSummary(bucket_name='lax-tower-4-block-unique-silhouettes-color-png', key='tower_4_block_unique_silhouette_color_015.png')\n",
      "s3.ObjectSummary(bucket_name='lax-tower-4-block-unique-silhouettes-color-png', key='tower_4_block_unique_silhouette_color_016.png')\n",
      "s3.ObjectSummary(bucket_name='lax-tower-4-block-unique-silhouettes-color-png', key='tower_4_block_unique_silhouette_color_017.png')\n",
      "s3.ObjectSummary(bucket_name='lax-tower-4-block-unique-silhouettes-color-png', key='tower_4_block_unique_silhouette_color_018.png')\n",
      "s3.ObjectSummary(bucket_name='lax-tower-4-block-unique-silhouettes-color-png', key='tower_4_block_unique_silhouette_color_019.png')\n",
      "s3.ObjectSummary(bucket_name='lax-tower-4-block-unique-silhouettes-color-png', key='tower_4_block_unique_silhouette_color_020.png')\n",
      "s3.ObjectSummary(bucket_name='lax-tower-4-block-unique-silhouettes-color-png', key='tower_4_block_unique_silhouette_color_021.png')\n",
      "s3.ObjectSummary(bucket_name='lax-tower-4-block-unique-silhouettes-color-png', key='tower_4_block_unique_silhouette_color_022.png')\n",
      "s3.ObjectSummary(bucket_name='lax-tower-4-block-unique-silhouettes-color-png', key='tower_4_block_unique_silhouette_color_023.png')\n",
      "s3.ObjectSummary(bucket_name='lax-tower-4-block-unique-silhouettes-color-png', key='tower_4_block_unique_silhouette_color_024.png')\n",
      "s3.ObjectSummary(bucket_name='lax-tower-4-block-unique-silhouettes-color-png', key='tower_4_block_unique_silhouette_color_025.png')\n",
      "s3.ObjectSummary(bucket_name='lax-tower-4-block-unique-silhouettes-color-png', key='tower_4_block_unique_silhouette_color_026.png')\n",
      "s3.ObjectSummary(bucket_name='lax-tower-4-block-unique-silhouettes-color-png', key='tower_4_block_unique_silhouette_color_027.png')\n",
      "s3.ObjectSummary(bucket_name='lax-tower-4-block-unique-silhouettes-color-png', key='tower_4_block_unique_silhouette_color_028.png')\n",
      "s3.ObjectSummary(bucket_name='lax-tower-4-block-unique-silhouettes-color-png', key='tower_4_block_unique_silhouette_color_029.png')\n",
      "s3.ObjectSummary(bucket_name='lax-tower-4-block-unique-silhouettes-color-png', key='tower_4_block_unique_silhouette_color_030.png')\n",
      "s3.ObjectSummary(bucket_name='lax-tower-4-block-unique-silhouettes-color-png', key='tower_4_block_unique_silhouette_color_031.png')\n",
      "s3.ObjectSummary(bucket_name='lax-tower-4-block-unique-silhouettes-color-png', key='tower_4_block_unique_silhouette_color_032.png')\n",
      "s3.ObjectSummary(bucket_name='lax-tower-4-block-unique-silhouettes-color-png', key='tower_4_block_unique_silhouette_color_033.png')\n",
      "s3.ObjectSummary(bucket_name='lax-tower-4-block-unique-silhouettes-color-png', key='tower_4_block_unique_silhouette_color_034.png')\n",
      "s3.ObjectSummary(bucket_name='lax-tower-4-block-unique-silhouettes-color-png', key='tower_4_block_unique_silhouette_color_035.png')\n",
      "s3.ObjectSummary(bucket_name='lax-tower-4-block-unique-silhouettes-color-png', key='tower_4_block_unique_silhouette_color_036.png')\n",
      "s3.ObjectSummary(bucket_name='lax-tower-4-block-unique-silhouettes-color-png', key='tower_4_block_unique_silhouette_color_037.png')\n",
      "s3.ObjectSummary(bucket_name='lax-tower-4-block-unique-silhouettes-color-png', key='tower_4_block_unique_silhouette_color_038.png')\n",
      "s3.ObjectSummary(bucket_name='lax-tower-4-block-unique-silhouettes-color-png', key='tower_4_block_unique_silhouette_color_039.png')\n",
      "s3.ObjectSummary(bucket_name='lax-tower-4-block-unique-silhouettes-color-png', key='tower_4_block_unique_silhouette_color_040.png')\n",
      "s3.ObjectSummary(bucket_name='lax-tower-4-block-unique-silhouettes-color-png', key='tower_4_block_unique_silhouette_color_041.png')\n",
      "s3.ObjectSummary(bucket_name='lax-tower-4-block-unique-silhouettes-color-png', key='tower_4_block_unique_silhouette_color_042.png')\n",
      "s3.ObjectSummary(bucket_name='lax-tower-4-block-unique-silhouettes-color-png', key='tower_4_block_unique_silhouette_color_043.png')\n",
      "s3.ObjectSummary(bucket_name='lax-tower-4-block-unique-silhouettes-color-png', key='tower_4_block_unique_silhouette_color_044.png')\n",
      "s3.ObjectSummary(bucket_name='lax-tower-4-block-unique-silhouettes-color-png', key='tower_4_block_unique_silhouette_color_045.png')\n",
      "s3.ObjectSummary(bucket_name='lax-tower-4-block-unique-silhouettes-color-png', key='tower_4_block_unique_silhouette_color_046.png')\n",
      "s3.ObjectSummary(bucket_name='lax-tower-4-block-unique-silhouettes-color-png', key='tower_4_block_unique_silhouette_color_047.png')\n",
      "s3.ObjectSummary(bucket_name='lax-tower-4-block-unique-silhouettes-color-png', key='tower_4_block_unique_silhouette_color_048.png')\n",
      "s3.ObjectSummary(bucket_name='lax-tower-4-block-unique-silhouettes-color-png', key='tower_4_block_unique_silhouette_color_049.png')\n",
      "s3.ObjectSummary(bucket_name='lax-tower-4-block-unique-silhouettes-color-png', key='tower_4_block_unique_silhouette_color_050.png')\n",
      "s3.ObjectSummary(bucket_name='lax-tower-4-block-unique-silhouettes-color-png', key='tower_4_block_unique_silhouette_color_051.png')\n",
      "s3.ObjectSummary(bucket_name='lax-tower-4-block-unique-silhouettes-color-png', key='tower_4_block_unique_silhouette_color_052.png')\n",
      "s3.ObjectSummary(bucket_name='lax-tower-4-block-unique-silhouettes-color-png', key='tower_4_block_unique_silhouette_color_053.png')\n",
      "s3.ObjectSummary(bucket_name='lax-tower-4-block-unique-silhouettes-color-png', key='tower_4_block_unique_silhouette_color_054.png')\n",
      "s3.ObjectSummary(bucket_name='lax-tower-4-block-unique-silhouettes-color-png', key='tower_4_block_unique_silhouette_color_055.png')\n",
      "s3.ObjectSummary(bucket_name='lax-tower-4-block-unique-silhouettes-color-png', key='tower_4_block_unique_silhouette_color_056.png')\n",
      "s3.ObjectSummary(bucket_name='lax-tower-4-block-unique-silhouettes-color-png', key='tower_4_block_unique_silhouette_color_057.png')\n",
      "s3.ObjectSummary(bucket_name='lax-tower-4-block-unique-silhouettes-color-png', key='tower_4_block_unique_silhouette_color_058.png')\n",
      "s3.ObjectSummary(bucket_name='lax-tower-4-block-unique-silhouettes-color-png', key='tower_4_block_unique_silhouette_color_059.png')\n",
      "s3.ObjectSummary(bucket_name='lax-tower-4-block-unique-silhouettes-color-png', key='tower_4_block_unique_silhouette_color_060.png')\n",
      "s3.ObjectSummary(bucket_name='lax-tower-4-block-unique-silhouettes-color-png', key='tower_4_block_unique_silhouette_color_061.png')\n",
      "s3.ObjectSummary(bucket_name='lax-tower-4-block-unique-silhouettes-color-png', key='tower_4_block_unique_silhouette_color_062.png')\n",
      "s3.ObjectSummary(bucket_name='lax-tower-4-block-unique-silhouettes-color-png', key='tower_4_block_unique_silhouette_color_063.png')\n",
      "s3.ObjectSummary(bucket_name='lax-tower-4-block-unique-silhouettes-color-png', key='tower_4_block_unique_silhouette_color_064.png')\n",
      "s3.ObjectSummary(bucket_name='lax-tower-4-block-unique-silhouettes-color-png', key='tower_4_block_unique_silhouette_color_065.png')\n",
      "s3.ObjectSummary(bucket_name='lax-tower-4-block-unique-silhouettes-color-png', key='tower_4_block_unique_silhouette_color_066.png')\n",
      "s3.ObjectSummary(bucket_name='lax-tower-4-block-unique-silhouettes-color-png', key='tower_4_block_unique_silhouette_color_067.png')\n",
      "s3.ObjectSummary(bucket_name='lax-tower-4-block-unique-silhouettes-color-png', key='tower_4_block_unique_silhouette_color_068.png')\n",
      "s3.ObjectSummary(bucket_name='lax-tower-4-block-unique-silhouettes-color-png', key='tower_4_block_unique_silhouette_color_069.png')\n",
      "s3.ObjectSummary(bucket_name='lax-tower-4-block-unique-silhouettes-color-png', key='tower_4_block_unique_silhouette_color_070.png')\n",
      "s3.ObjectSummary(bucket_name='lax-tower-4-block-unique-silhouettes-color-png', key='tower_4_block_unique_silhouette_color_071.png')\n",
      "s3.ObjectSummary(bucket_name='lax-tower-4-block-unique-silhouettes-color-png', key='tower_4_block_unique_silhouette_color_072.png')\n",
      "s3.ObjectSummary(bucket_name='lax-tower-4-block-unique-silhouettes-color-png', key='tower_4_block_unique_silhouette_color_073.png')\n",
      "s3.ObjectSummary(bucket_name='lax-tower-4-block-unique-silhouettes-color-png', key='tower_4_block_unique_silhouette_color_074.png')\n",
      "s3.ObjectSummary(bucket_name='lax-tower-4-block-unique-silhouettes-color-png', key='tower_4_block_unique_silhouette_color_075.png')\n",
      "s3.ObjectSummary(bucket_name='lax-tower-4-block-unique-silhouettes-color-png', key='tower_4_block_unique_silhouette_color_076.png')\n",
      "s3.ObjectSummary(bucket_name='lax-tower-4-block-unique-silhouettes-color-png', key='tower_4_block_unique_silhouette_color_077.png')\n",
      "s3.ObjectSummary(bucket_name='lax-tower-4-block-unique-silhouettes-color-png', key='tower_4_block_unique_silhouette_color_078.png')\n",
      "s3.ObjectSummary(bucket_name='lax-tower-4-block-unique-silhouettes-color-png', key='tower_4_block_unique_silhouette_color_079.png')\n",
      "s3.ObjectSummary(bucket_name='lax-tower-4-block-unique-silhouettes-color-png', key='tower_4_block_unique_silhouette_color_080.png')\n",
      "s3.ObjectSummary(bucket_name='lax-tower-4-block-unique-silhouettes-color-png', key='tower_4_block_unique_silhouette_color_081.png')\n",
      "s3.ObjectSummary(bucket_name='lax-tower-4-block-unique-silhouettes-color-png', key='tower_4_block_unique_silhouette_color_082.png')\n",
      "s3.ObjectSummary(bucket_name='lax-tower-4-block-unique-silhouettes-color-png', key='tower_4_block_unique_silhouette_color_083.png')\n",
      "s3.ObjectSummary(bucket_name='lax-tower-4-block-unique-silhouettes-color-png', key='tower_4_block_unique_silhouette_color_084.png')\n",
      "s3.ObjectSummary(bucket_name='lax-tower-4-block-unique-silhouettes-color-png', key='tower_4_block_unique_silhouette_color_085.png')\n",
      "s3.ObjectSummary(bucket_name='lax-tower-4-block-unique-silhouettes-color-png', key='tower_4_block_unique_silhouette_color_086.png')\n",
      "s3.ObjectSummary(bucket_name='lax-tower-4-block-unique-silhouettes-color-png', key='tower_4_block_unique_silhouette_color_087.png')\n",
      "s3.ObjectSummary(bucket_name='lax-tower-4-block-unique-silhouettes-color-png', key='tower_4_block_unique_silhouette_color_088.png')\n",
      "s3.ObjectSummary(bucket_name='lax-tower-4-block-unique-silhouettes-color-png', key='tower_4_block_unique_silhouette_color_089.png')\n",
      "s3.ObjectSummary(bucket_name='lax-tower-4-block-unique-silhouettes-color-png', key='tower_4_block_unique_silhouette_color_090.png')\n",
      "s3.ObjectSummary(bucket_name='lax-tower-4-block-unique-silhouettes-color-png', key='tower_4_block_unique_silhouette_color_091.png')\n",
      "s3.ObjectSummary(bucket_name='lax-tower-4-block-unique-silhouettes-color-png', key='tower_4_block_unique_silhouette_color_092.png')\n",
      "s3.ObjectSummary(bucket_name='lax-tower-4-block-unique-silhouettes-color-png', key='tower_4_block_unique_silhouette_color_093.png')\n",
      "s3.ObjectSummary(bucket_name='lax-tower-4-block-unique-silhouettes-color-png', key='tower_4_block_unique_silhouette_color_094.png')\n",
      "s3.ObjectSummary(bucket_name='lax-tower-4-block-unique-silhouettes-color-png', key='tower_4_block_unique_silhouette_color_095.png')\n",
      "s3.ObjectSummary(bucket_name='lax-tower-4-block-unique-silhouettes-color-png', key='tower_4_block_unique_silhouette_color_096.png')\n",
      "s3.ObjectSummary(bucket_name='lax-tower-4-block-unique-silhouettes-color-png', key='tower_4_block_unique_silhouette_color_097.png')\n",
      "s3.ObjectSummary(bucket_name='lax-tower-4-block-unique-silhouettes-color-png', key='tower_4_block_unique_silhouette_color_098.png')\n",
      "s3.ObjectSummary(bucket_name='lax-tower-4-block-unique-silhouettes-color-png', key='tower_4_block_unique_silhouette_color_099.png')\n",
      "s3.ObjectSummary(bucket_name='lax-tower-4-block-unique-silhouettes-color-png', key='tower_4_block_unique_silhouette_color_100.png')\n",
      "s3.ObjectSummary(bucket_name='lax-tower-4-block-unique-silhouettes-color-png', key='tower_4_block_unique_silhouette_color_101.png')\n",
      "s3.ObjectSummary(bucket_name='lax-tower-4-block-unique-silhouettes-color-png', key='tower_4_block_unique_silhouette_color_102.png')\n",
      "s3.ObjectSummary(bucket_name='lax-tower-4-block-unique-silhouettes-color-png', key='tower_4_block_unique_silhouette_color_103.png')\n",
      "s3.ObjectSummary(bucket_name='lax-tower-4-block-unique-silhouettes-color-png', key='tower_4_block_unique_silhouette_color_104.png')\n",
      "s3.ObjectSummary(bucket_name='lax-tower-4-block-unique-silhouettes-color-png', key='tower_4_block_unique_silhouette_color_105.png')\n",
      "s3.ObjectSummary(bucket_name='lax-tower-4-block-unique-silhouettes-color-png', key='tower_4_block_unique_silhouette_color_106.png')\n",
      "s3.ObjectSummary(bucket_name='lax-tower-4-block-unique-silhouettes-color-png', key='tower_4_block_unique_silhouette_color_107.png')\n",
      "s3.ObjectSummary(bucket_name='lax-tower-4-block-unique-silhouettes-color-png', key='tower_4_block_unique_silhouette_color_108.png')\n",
      "s3.ObjectSummary(bucket_name='lax-tower-4-block-unique-silhouettes-color-png', key='tower_4_block_unique_silhouette_color_109.png')\n",
      "s3.ObjectSummary(bucket_name='lax-tower-4-block-unique-silhouettes-color-png', key='tower_4_block_unique_silhouette_color_110.png')\n",
      "s3.ObjectSummary(bucket_name='lax-tower-4-block-unique-silhouettes-color-png', key='tower_4_block_unique_silhouette_color_111.png')\n",
      "s3.ObjectSummary(bucket_name='lax-tower-4-block-unique-silhouettes-color-png', key='tower_4_block_unique_silhouette_color_112.png')\n",
      "s3.ObjectSummary(bucket_name='lax-tower-4-block-unique-silhouettes-color-png', key='tower_4_block_unique_silhouette_color_113.png')\n",
      "s3.ObjectSummary(bucket_name='lax-tower-4-block-unique-silhouettes-color-png', key='tower_4_block_unique_silhouette_color_114.png')\n",
      "s3.ObjectSummary(bucket_name='lax-tower-4-block-unique-silhouettes-color-png', key='tower_4_block_unique_silhouette_color_115.png')\n",
      "s3.ObjectSummary(bucket_name='lax-tower-4-block-unique-silhouettes-color-png', key='tower_4_block_unique_silhouette_color_116.png')\n",
      "s3.ObjectSummary(bucket_name='lax-tower-4-block-unique-silhouettes-color-png', key='tower_4_block_unique_silhouette_color_117.png')\n",
      "s3.ObjectSummary(bucket_name='lax-tower-4-block-unique-silhouettes-color-png', key='tower_4_block_unique_silhouette_color_118.png')\n",
      "s3.ObjectSummary(bucket_name='lax-tower-4-block-unique-silhouettes-color-png', key='tower_4_block_unique_silhouette_color_119.png')\n",
      "s3.ObjectSummary(bucket_name='lax-tower-4-block-unique-silhouettes-color-png', key='tower_4_block_unique_silhouette_color_120.png')\n",
      "s3.ObjectSummary(bucket_name='lax-tower-4-block-unique-silhouettes-color-png', key='tower_4_block_unique_silhouette_color_121.png')\n",
      "s3.ObjectSummary(bucket_name='lax-tower-4-block-unique-silhouettes-color-png', key='tower_4_block_unique_silhouette_color_122.png')\n",
      "s3.ObjectSummary(bucket_name='lax-tower-4-block-unique-silhouettes-color-png', key='tower_4_block_unique_silhouette_color_123.png')\n",
      "s3.ObjectSummary(bucket_name='lax-tower-4-block-unique-silhouettes-color-png', key='tower_4_block_unique_silhouette_color_124.png')\n",
      "s3.ObjectSummary(bucket_name='lax-tower-4-block-unique-silhouettes-color-png', key='tower_4_block_unique_silhouette_color_125.png')\n",
      "s3.ObjectSummary(bucket_name='lax-tower-4-block-unique-silhouettes-color-png', key='tower_4_block_unique_silhouette_color_126.png')\n",
      "s3.ObjectSummary(bucket_name='lax-tower-4-block-unique-silhouettes-color-png', key='tower_4_block_unique_silhouette_color_127.png')\n",
      "s3.ObjectSummary(bucket_name='lax-tower-4-block-unique-silhouettes-color-png', key='tower_4_block_unique_silhouette_color_128.png')\n",
      "s3.ObjectSummary(bucket_name='lax-tower-4-block-unique-silhouettes-color-png', key='tower_4_block_unique_silhouette_color_129.png')\n"
     ]
    }
   ],
   "source": [
    "for my_bucket_object in b.objects.all():\n",
    "    print(my_bucket_object)"
   ]
  },
  {
   "cell_type": "code",
   "execution_count": null,
   "metadata": {},
   "outputs": [],
   "source": []
  },
  {
   "cell_type": "code",
   "execution_count": 34,
   "metadata": {},
   "outputs": [],
   "source": [
    "### add burn-in trials"
   ]
  },
  {
   "cell_type": "code",
   "execution_count": 35,
   "metadata": {},
   "outputs": [],
   "source": [
    "### add catch trials"
   ]
  },
  {
   "cell_type": "code",
   "execution_count": null,
   "metadata": {},
   "outputs": [],
   "source": []
  }
 ],
 "metadata": {
  "interpreter": {
   "hash": "31f2aee4e71d21fbe5cf8b01ff0e069b9275f58929596ceb00d14d90e3e16cd6"
  },
  "kernelspec": {
   "display_name": "Python 3",
   "language": "python",
   "name": "python3"
  },
  "language_info": {
   "codemirror_mode": {
    "name": "ipython",
    "version": 3
   },
   "file_extension": ".py",
   "mimetype": "text/x-python",
   "name": "python",
   "nbconvert_exporter": "python",
   "pygments_lexer": "ipython3",
   "version": "3.7.4"
  }
 },
 "nbformat": 4,
 "nbformat_minor": 4
}
