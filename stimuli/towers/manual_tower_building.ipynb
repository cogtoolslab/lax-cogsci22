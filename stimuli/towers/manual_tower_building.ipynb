{
 "cells": [
  {
   "cell_type": "markdown",
   "metadata": {},
   "source": [
    "## For manually creating towers e.g. for use in demo figures"
   ]
  },
  {
   "cell_type": "code",
   "execution_count": 20,
   "metadata": {},
   "outputs": [],
   "source": [
    "from __future__ import division\n",
    "\n",
    "import numpy as np\n",
    "import os, sys\n",
    "from PIL import Image\n",
    "import pandas as pd\n",
    "\n",
    "from matplotlib import pylab, mlab, pyplot\n",
    "import matplotlib.pyplot as plt\n",
    "import matplotlib.image as mpimg\n",
    "from matplotlib.path import Path\n",
    "import matplotlib.patches as patches\n",
    "%matplotlib inline\n",
    "\n",
    "from IPython.core.pylabtools import figsize, getfigs\n",
    "\n",
    "import seaborn as sns\n",
    "\n",
    "import random\n",
    "\n",
    "from scipy.stats import norm\n",
    "from IPython.display import clear_output\n",
    "\n",
    "import copy\n",
    "import importlib\n",
    "\n",
    "\n",
    "### Add Paths\n",
    "\n",
    "## root paths\n",
    "curr_dir = os.getcwd()\n",
    "proj_dir = os.path.abspath(os.path.join(curr_dir,'..','..')) ## use relative paths\n",
    "\n",
    "## add helpers to python path\n",
    "import sys\n",
    "if os.path.join(proj_dir, 'stimuli') not in sys.path:\n",
    "    sys.path.append(os.path.join(proj_dir, 'stimuli'))\n",
    "\n",
    "## custom helper modules\n",
    "sys.path.append(\"./block_utils/\")\n",
    "import blockworld_utils as utils\n",
    "import domino_settings as dominoes"
   ]
  },
  {
   "cell_type": "code",
   "execution_count": 24,
   "metadata": {},
   "outputs": [
    {
     "data": {
      "text/plain": [
       "<module 'domino_settings' from '/Users/will/lax/stimuli/towers/./block_utils/domino_settings.py'>"
      ]
     },
     "execution_count": 24,
     "metadata": {},
     "output_type": "execute_result"
    }
   ],
   "source": [
    "importlib.reload(dominoes)"
   ]
  },
  {
   "cell_type": "code",
   "execution_count": 25,
   "metadata": {},
   "outputs": [],
   "source": [
    "# setup\n",
    "block_dims = dominoes.block_dims\n",
    "block_colors = dominoes.brighter_block_colors\n",
    "world_width = dominoes.world_width\n",
    "world_height = dominoes.world_height\n",
    "world_center = dominoes.world_center\n",
    "black = ['#000000','#000000'] # used to display silhouettes\n",
    "grey = ['#333333','#333333']"
   ]
  },
  {
   "cell_type": "code",
   "execution_count": 26,
   "metadata": {},
   "outputs": [],
   "source": [
    "ws = {}"
   ]
  },
  {
   "cell_type": "code",
   "execution_count": 27,
   "metadata": {
    "scrolled": true
   },
   "outputs": [
    {
     "data": {
      "image/png": "[encoded data removed]",
      "text/plain": [
       "<Figure size 288x288 with 1 Axes>"
      ]
     },
     "metadata": {
      "needs_background": "light"
     },
     "output_type": "display_data"
    },
    {
     "data": {
      "image/png": "[encoded data removed]",
      "text/plain": [
       "<Figure size 288x288 with 1 Axes>"
      ]
     },
     "execution_count": 27,
     "metadata": {},
     "output_type": "execute_result"
    }
   ],
   "source": [
    "ws[1] = utils.World(block_dims = block_dims,\n",
    "                block_colors = block_colors)\n",
    "\n",
    "ws[1].add_block(2,1,0,0)\n",
    "# ws[1].snap_to_floor(1,2,0)\n",
    "ws[1].snap_to_floor(1,2,5)\n",
    "# w.snap_to_floor(1,2,0)\n",
    "utils.draw_world(ws[1])"
   ]
  },
  {
   "cell_type": "code",
   "execution_count": 28,
   "metadata": {},
   "outputs": [
    {
     "data": {
      "image/png": "[encoded data removed]",
      "text/plain": [
       "<Figure size 288x288 with 1 Axes>"
      ]
     },
     "metadata": {
      "needs_background": "light"
     },
     "output_type": "display_data"
    },
    {
     "data": {
      "image/png": "[encoded data removed]",
      "text/plain": [
       "<Figure size 288x288 with 1 Axes>"
      ]
     },
     "execution_count": 28,
     "metadata": {},
     "output_type": "execute_result"
    }
   ],
   "source": [
    "ws[2] = utils.World(block_dims = block_dims,\n",
    "               block_colors = block_colors)\n",
    "\n",
    "ws[2].snap_to_floor(1,2,1)\n",
    "ws[2].snap_to_floor(2,1,0)\n",
    "ws[2].snap_to_floor(1,2,1)\n",
    "# w.snap_to_floor(1,2,0)\n",
    "utils.draw_world(ws[2])"
   ]
  },
  {
   "cell_type": "code",
   "execution_count": 29,
   "metadata": {},
   "outputs": [
    {
     "data": {
      "image/png": "[encoded data removed]",
      "text/plain": [
       "<Figure size 288x288 with 1 Axes>"
      ]
     },
     "metadata": {
      "needs_background": "light"
     },
     "output_type": "display_data"
    },
    {
     "data": {
      "image/png": "[encoded data removed]",
      "text/plain": [
       "<Figure size 288x288 with 1 Axes>"
      ]
     },
     "execution_count": 29,
     "metadata": {},
     "output_type": "execute_result"
    }
   ],
   "source": [
    "ws[3] = utils.World(block_dims = block_dims,\n",
    "               block_colors = block_colors)\n",
    "\n",
    "ws[3].snap_to_floor(2,1,0)\n",
    "ws[3].snap_to_floor(1,2,2)\n",
    "ws[3].snap_to_floor(1,2,0)\n",
    "# w.snap_to_floor(1,2,0)\n",
    "utils.draw_world(ws[2])"
   ]
  },
  {
   "cell_type": "code",
   "execution_count": 14,
   "metadata": {},
   "outputs": [
    {
     "data": {
      "image/png": "[encoded data removed]",
      "text/plain": [
       "<Figure size 288x288 with 1 Axes>"
      ]
     },
     "metadata": {
      "needs_background": "light"
     },
     "output_type": "display_data"
    },
    {
     "data": {
      "image/png": "[encoded data removed]",
      "text/plain": [
       "<Figure size 288x288 with 1 Axes>"
      ]
     },
     "execution_count": 14,
     "metadata": {},
     "output_type": "execute_result"
    }
   ],
   "source": [
    "ws[4] = utils.World(block_dims = block_dims,\n",
    "               block_colors = block_colors)\n",
    "\n",
    "ws[4].snap_to_floor(2,1,0)\n",
    "ws[4].snap_to_floor(1,2,0)\n",
    "ws[4].snap_to_floor(1,2,1)\n",
    "# w.snap_to_floor(1,2,0)\n",
    "utils.draw_world(ws[4])"
   ]
  },
  {
   "cell_type": "code",
   "execution_count": 10,
   "metadata": {},
   "outputs": [
    {
     "data": {
      "image/png": "[encoded data removed]",
      "text/plain": [
       "<Figure size 288x288 with 1 Axes>"
      ]
     },
     "metadata": {
      "needs_background": "light"
     },
     "output_type": "display_data"
    }
   ],
   "source": [
    "ws[5] = utils.World(block_dims = block_dims,\n",
    "              block_colors = block_colors)\n",
    "\n",
    "ws[5].snap_to_floor(2,1,0)\n",
    "ws[5].snap_to_floor(2,1,2)\n",
    "ws[5].snap_to_floor(1,2,1)\n",
    "# w.snap_to_floor(1,2,0)\n",
    "utils.draw_world(ws[5])"
   ]
  },
  {
   "cell_type": "code",
   "execution_count": 11,
   "metadata": {},
   "outputs": [
    {
     "data": {
      "image/png": "[encoded data removed]",
      "text/plain": [
       "<Figure size 288x288 with 1 Axes>"
      ]
     },
     "metadata": {
      "needs_background": "light"
     },
     "output_type": "display_data"
    }
   ],
   "source": [
    "ws[6] = utils.World(block_dims = block_dims,\n",
    "              block_colors = block_colors)\n",
    "\n",
    "ws[6].snap_to_floor(2,1,0)\n",
    "ws[6].snap_to_floor(1,2,0)\n",
    "ws[6].snap_to_floor(2,1,1)\n",
    "# w.snap_to_floor(1,2,0)\n",
    "utils.draw_world(ws[6])"
   ]
  },
  {
   "cell_type": "code",
   "execution_count": 12,
   "metadata": {},
   "outputs": [
    {
     "data": {
      "image/png": "[encoded data removed]",
      "text/plain": [
       "<Figure size 144x216 with 1 Axes>"
      ]
     },
     "metadata": {
      "needs_background": "light"
     },
     "output_type": "display_data"
    },
    {
     "data": {
      "image/png": "[encoded data removed]",
      "text/plain": [
       "<Figure size 144x216 with 1 Axes>"
      ]
     },
     "metadata": {
      "needs_background": "light"
     },
     "output_type": "display_data"
    },
    {
     "data": {
      "image/png": "[encoded data removed]",
      "text/plain": [
       "<Figure size 144x216 with 1 Axes>"
      ]
     },
     "metadata": {
      "needs_background": "light"
     },
     "output_type": "display_data"
    },
    {
     "data": {
      "image/png": "[encoded data removed]",
      "text/plain": [
       "<Figure size 144x216 with 1 Axes>"
      ]
     },
     "metadata": {
      "needs_background": "light"
     },
     "output_type": "display_data"
    },
    {
     "data": {
      "image/png": "[encoded data removed]",
      "text/plain": [
       "<Figure size 144x216 with 1 Axes>"
      ]
     },
     "metadata": {
      "needs_background": "light"
     },
     "output_type": "display_data"
    },
    {
     "data": {
      "image/png": "[encoded data removed]",
      "text/plain": [
       "<Figure size 144x216 with 1 Axes>"
      ]
     },
     "metadata": {
      "needs_background": "light"
     },
     "output_type": "display_data"
    },
    {
     "data": {
      "text/plain": [
       "[<Figure size 144x216 with 1 Axes>,\n",
       " <Figure size 144x216 with 1 Axes>,\n",
       " <Figure size 144x216 with 1 Axes>,\n",
       " <Figure size 144x216 with 1 Axes>,\n",
       " <Figure size 144x216 with 1 Axes>,\n",
       " <Figure size 144x216 with 1 Axes>]"
      ]
     },
     "execution_count": 12,
     "metadata": {},
     "output_type": "execute_result"
    }
   ],
   "source": [
    "[utils.draw_tower(w) for w in ws.values()]"
   ]
  },
  {
   "cell_type": "code",
   "execution_count": null,
   "metadata": {},
   "outputs": [],
   "source": []
  },
  {
   "cell_type": "code",
   "execution_count": 23,
   "metadata": {},
   "outputs": [
    {
     "name": "stdout",
     "output_type": "stream",
     "text": [
      "{'blocks': [{'x': 0, 'y': 0, 'height': 2, 'width': 1}, {'x': 3, 'y': 0, 'height': 2, 'width': 1}, {'x': 0, 'y': 2, 'height': 1, 'width': 2}, {'x': 2, 'y': 2, 'height': 1, 'width': 2}, {'x': 1, 'y': 3, 'height': 1, 'width': 2}, {'x': 0, 'y': 3, 'height': 2, 'width': 1}, {'x': 3, 'y': 3, 'height': 2, 'width': 1}, {'x': 0, 'y': 5, 'height': 1, 'width': 2}, {'x': 2, 'y': 5, 'height': 1, 'width': 2}, {'x': 1, 'y': 6, 'height': 1, 'width': 2}, {'x': 0, 'y': 6, 'height': 2, 'width': 1}, {'x': 3, 'y': 6, 'height': 2, 'width': 1}]}\n"
     ]
    },
    {
     "data": {
      "image/png": "[encoded data removed]",
      "text/plain": [
       "<Figure size 288x288 with 1 Axes>"
      ]
     },
     "metadata": {
      "needs_background": "light"
     },
     "output_type": "display_data"
    }
   ],
   "source": [
    "w = utils.World(block_dims = block_dims,\n",
    "              block_colors = block_colors)\n",
    "\n",
    "w.snap_to_floor(1,2,0)\n",
    "w.snap_to_floor(1,2,3)\n",
    "w.snap_to_floor(2,1,0)\n",
    "w.snap_to_floor(2,1,2)\n",
    "w.snap_to_floor(2,1,1)\n",
    "w.snap_to_floor(1,2,0)\n",
    "w.snap_to_floor(1,2,3)\n",
    "w.snap_to_floor(2,1,0)\n",
    "w.snap_to_floor(2,1,2)\n",
    "w.snap_to_floor(2,1,1)\n",
    "w.snap_to_floor(1,2,0)\n",
    "w.snap_to_floor(1,2,3)\n",
    "\n",
    "print(w.get_block_dict())\n",
    "utils.draw_world(w)"
   ]
  },
  {
   "cell_type": "code",
   "execution_count": 55,
   "metadata": {
    "scrolled": true
   },
   "outputs": [
    {
     "name": "stdout",
     "output_type": "stream",
     "text": [
      "[{'x': 0, 'y': 0, 'height': 2, 'width': 1}, {'x': 3, 'y': 0, 'height': 2, 'width': 1}, {'x': 1, 'y': 0, 'height': 2, 'width': 1}, {'x': 0, 'y': 2, 'height': 1, 'width': 2}, {'x': 2, 'y': 2, 'height': 1, 'width': 2}]\n"
     ]
    },
    {
     "data": {
      "image/png": "[encoded data removed]",
      "text/plain": [
       "<Figure size 288x288 with 1 Axes>"
      ]
     },
     "metadata": {
      "needs_background": "light"
     },
     "output_type": "display_data"
    }
   ],
   "source": [
    "w = utils.World(block_dims = block_dims,\n",
    "              block_colors = block_colors)\n",
    "\n",
    "w.snap_to_floor(1,2,0)\n",
    "w.snap_to_floor(1,2,3)\n",
    "w.snap_to_floor(1,2,1)\n",
    "w.snap_to_floor(2,1,0)\n",
    "w.snap_to_floor(2,1,2)\n",
    "\n",
    "print(w.get_block_dict()['blocks'])\n",
    "utils.draw_world(w)"
   ]
  },
  {
   "cell_type": "code",
   "execution_count": 120,
   "metadata": {},
   "outputs": [
    {
     "name": "stdout",
     "output_type": "stream",
     "text": [
      "[{'x': 0, 'y': 0, 'height': 1, 'width': 2}, {'x': 1, 'y': 1, 'height': 2, 'width': 1}, {'x': 0, 'y': 1, 'height': 2, 'width': 1}, {'x': 3, 'y': 0, 'height': 2, 'width': 1}, {'x': 2, 'y': 0, 'height': 2, 'width': 1}, {'x': 2, 'y': 2, 'height': 1, 'width': 2}]\n"
     ]
    },
    {
     "data": {
      "image/png": "[encoded data removed]",
      "text/plain": [
       "<Figure size 288x288 with 1 Axes>"
      ]
     },
     "metadata": {
      "needs_background": "light"
     },
     "output_type": "display_data"
    }
   ],
   "source": [
    "w = utils.World(block_dims = block_dims,\n",
    "              block_colors = block_colors)\n",
    "\n",
    "w.snap_to_floor(2,1,0)\n",
    "w.snap_to_floor(1,2,1)\n",
    "w.snap_to_floor(1,2,0)\n",
    "w.snap_to_floor(1,2,3)\n",
    "w.snap_to_floor(1,2,2)\n",
    "w.snap_to_floor(2,1,2)\n",
    "\n",
    "print(w.get_block_dict()['blocks'])\n",
    "utils.draw_world(w)"
   ]
  },
  {
   "cell_type": "code",
   "execution_count": 133,
   "metadata": {},
   "outputs": [
    {
     "name": "stdout",
     "output_type": "stream",
     "text": [
      "[{'x': 0, 'y': 0, 'height': 1, 'width': 2}, {'x': 0, 'y': 1, 'height': 1, 'width': 2}, {'x': 1, 'y': 2, 'height': 2, 'width': 1}, {'x': 0, 'y': 2, 'height': 2, 'width': 1}, {'x': 3, 'y': 0, 'height': 2, 'width': 1}, {'x': 2, 'y': 0, 'height': 2, 'width': 1}, {'x': 2, 'y': 2, 'height': 1, 'width': 2}, {'x': 2, 'y': 3, 'height': 1, 'width': 2}]\n"
     ]
    },
    {
     "data": {
      "image/png": "[encoded data removed]",
      "text/plain": [
       "<Figure size 288x288 with 1 Axes>"
      ]
     },
     "metadata": {
      "needs_background": "light"
     },
     "output_type": "display_data"
    }
   ],
   "source": [
    "w = utils.World(block_dims = block_dims,\n",
    "              block_colors = block_colors)\n",
    "\n",
    "w.snap_to_floor(2,1,0)\n",
    "w.snap_to_floor(2,1,0)\n",
    "w.snap_to_floor(1,2,1)\n",
    "w.snap_to_floor(1,2,0)\n",
    "w.snap_to_floor(1,2,3)\n",
    "w.snap_to_floor(1,2,2)\n",
    "w.snap_to_floor(2,1,2)\n",
    "w.snap_to_floor(2,1,2)\n",
    "\n",
    "print(w.get_block_dict()['blocks'])\n",
    "utils.draw_world(w)"
   ]
  },
  {
   "cell_type": "code",
   "execution_count": 119,
   "metadata": {},
   "outputs": [
    {
     "name": "stdout",
     "output_type": "stream",
     "text": [
      "[{'x': 1, 'y': 0, 'height': 2, 'width': 1}, {'x': 0, 'y': 0, 'height': 2, 'width': 1}, {'x': 3, 'y': 0, 'height': 2, 'width': 1}, {'x': 2, 'y': 0, 'height': 2, 'width': 1}]\n"
     ]
    },
    {
     "data": {
      "image/png": "[encoded data removed]",
      "text/plain": [
       "<Figure size 288x288 with 1 Axes>"
      ]
     },
     "metadata": {
      "needs_background": "light"
     },
     "output_type": "display_data"
    }
   ],
   "source": [
    "w = utils.World(block_dims = block_dims,\n",
    "              block_colors = block_colors)\n",
    "\n",
    "\n",
    "w.snap_to_floor(1,2,1)\n",
    "w.snap_to_floor(1,2,0)\n",
    "w.snap_to_floor(1,2,3)\n",
    "w.snap_to_floor(1,2,2)\n",
    "\n",
    "print(w.get_block_dict()['blocks'])\n",
    "utils.draw_world(w)"
   ]
  },
  {
   "cell_type": "code",
   "execution_count": 15,
   "metadata": {},
   "outputs": [
    {
     "name": "stdout",
     "output_type": "stream",
     "text": [
      "[{'x': 0, 'y': 0, 'height': 2, 'width': 1}, {'x': 3, 'y': 0, 'height': 2, 'width': 1}, {'x': 1, 'y': 0, 'height': 1, 'width': 2}, {'x': 0, 'y': 2, 'height': 1, 'width': 2}, {'x': 2, 'y': 2, 'height': 1, 'width': 2}]\n"
     ]
    },
    {
     "data": {
      "image/png": "[encoded data removed]",
      "text/plain": [
       "<Figure size 288x288 with 1 Axes>"
      ]
     },
     "metadata": {
      "needs_background": "light"
     },
     "output_type": "display_data"
    },
    {
     "data": {
      "image/png": "[encoded data removed]",
      "text/plain": [
       "<Figure size 288x288 with 1 Axes>"
      ]
     },
     "execution_count": 15,
     "metadata": {},
     "output_type": "execute_result"
    }
   ],
   "source": [
    "w = utils.World(block_dims = block_dims,\n",
    "              block_colors = block_colors)\n",
    "\n",
    "w.snap_to_floor(1,2,0)\n",
    "w.snap_to_floor(1,2,3)\n",
    "w.snap_to_floor(2,1,1)\n",
    "w.snap_to_floor(2,1,0)\n",
    "w.snap_to_floor(2,1,2)\n",
    "# w.snap_to_floor(2,1,1)\n",
    "# w.snap_to_floor(1,2,0)\n",
    "# w.snap_to_floor(1,2,1)\n",
    "# w.snap_to_floor(1,2,3)\n",
    "# w.snap_to_floor(2,1,0)\n",
    "# w.snap_to_floor(2,1,2)\n",
    "# w.snap_to_floor(2,1,1)\n",
    "# w.snap_to_floor(1,2,0)\n",
    "# w.snap_to_floor(1,2,3)\n",
    "\n",
    "print(w.get_block_dict()['blocks'])\n",
    "utils.draw_world(w)"
   ]
  },
  {
   "cell_type": "code",
   "execution_count": 16,
   "metadata": {},
   "outputs": [
    {
     "name": "stdout",
     "output_type": "stream",
     "text": [
      "[{'x': 0, 'y': 0, 'height': 2, 'width': 1}, {'x': 3, 'y': 0, 'height': 2, 'width': 1}, {'x': 0, 'y': 2, 'height': 1, 'width': 2}, {'x': 2, 'y': 2, 'height': 1, 'width': 2}, {'x': 1, 'y': 3, 'height': 1, 'width': 2}]\n"
     ]
    },
    {
     "data": {
      "image/png": "[encoded data removed]",
      "text/plain": [
       "<Figure size 288x288 with 1 Axes>"
      ]
     },
     "metadata": {
      "needs_background": "light"
     },
     "output_type": "display_data"
    },
    {
     "data": {
      "image/png": "[encoded data removed]",
      "text/plain": [
       "<Figure size 288x288 with 1 Axes>"
      ]
     },
     "execution_count": 16,
     "metadata": {},
     "output_type": "execute_result"
    }
   ],
   "source": [
    "w = utils.World(block_dims = block_dims,\n",
    "              block_colors = block_colors)\n",
    "\n",
    "w.snap_to_floor(1,2,0)\n",
    "w.snap_to_floor(1,2,3)\n",
    "w.snap_to_floor(2,1,0)\n",
    "w.snap_to_floor(2,1,2)\n",
    "w.snap_to_floor(2,1,1)\n",
    "\n",
    "print(w.get_block_dict()['blocks'])\n",
    "utils.draw_world(w)\n"
   ]
  },
  {
   "cell_type": "code",
   "execution_count": 17,
   "metadata": {},
   "outputs": [
    {
     "name": "stdout",
     "output_type": "stream",
     "text": [
      "[{'x': 2, 'y': 0, 'height': 1, 'width': 2}, {'x': 0, 'y': 0, 'height': 1, 'width': 2}]\n"
     ]
    },
    {
     "data": {
      "image/png": "[encoded data removed]",
      "text/plain": [
       "<Figure size 288x288 with 1 Axes>"
      ]
     },
     "metadata": {
      "needs_background": "light"
     },
     "output_type": "display_data"
    },
    {
     "data": {
      "image/png": "[encoded data removed]",
      "text/plain": [
       "<Figure size 288x288 with 1 Axes>"
      ]
     },
     "execution_count": 17,
     "metadata": {},
     "output_type": "execute_result"
    }
   ],
   "source": [
    "w = utils.World(block_dims = block_dims,\n",
    "              block_colors = block_colors)\n",
    "\n",
    "# w.snap_to_floor(1,2,0)\n",
    "# w.snap_to_floor(1,2,3)\n",
    "# w.snap_to_floor(2,1,0)\n",
    "# w.snap_to_floor(2,1,2)\n",
    "w.snap_to_floor(2,1,2)\n",
    "w.snap_to_floor(2,1,0)\n",
    "\n",
    "\n",
    "\n",
    "print(w.get_block_dict()['blocks'])\n",
    "# # w.snap_to_floor(2,1,1)\n",
    "# w.snap_to_floor(1,2,2)\n",
    "# w.snap_to_floor(1,2,1)\n",
    "\n",
    "utils.draw_world(w)"
   ]
  },
  {
   "cell_type": "code",
   "execution_count": 18,
   "metadata": {},
   "outputs": [
    {
     "name": "stdout",
     "output_type": "stream",
     "text": [
      "[{'x': 0, 'y': 0, 'height': 1, 'width': 2}, {'x': 2, 'y': 0, 'height': 1, 'width': 2}, {'x': 0, 'y': 1, 'height': 2, 'width': 1}, {'x': 3, 'y': 1, 'height': 2, 'width': 1}, {'x': 1, 'y': 1, 'height': 1, 'width': 2}, {'x': 1, 'y': 2, 'height': 1, 'width': 2}, {'x': 0, 'y': 3, 'height': 1, 'width': 2}, {'x': 2, 'y': 3, 'height': 1, 'width': 2}]\n"
     ]
    },
    {
     "data": {
      "image/png": "[encoded data removed]",
      "text/plain": [
       "<Figure size 288x288 with 1 Axes>"
      ]
     },
     "metadata": {
      "needs_background": "light"
     },
     "output_type": "display_data"
    },
    {
     "data": {
      "image/png": "[encoded data removed]",
      "text/plain": [
       "<Figure size 288x288 with 1 Axes>"
      ]
     },
     "execution_count": 18,
     "metadata": {},
     "output_type": "execute_result"
    }
   ],
   "source": [
    "# bricks\n",
    "\n",
    "w = utils.World(block_dims = block_dims,\n",
    "              block_colors = block_colors)\n",
    "\n",
    "w.snap_to_floor(2,1,0)\n",
    "w.snap_to_floor(2,1,2)\n",
    "w.snap_to_floor(1,2,0)\n",
    "w.snap_to_floor(1,2,3)\n",
    "w.snap_to_floor(2,1,1)\n",
    "w.snap_to_floor(2,1,1)\n",
    "w.snap_to_floor(2,1,0)\n",
    "w.snap_to_floor(2,1,2)\n",
    "\n",
    "print(w.get_block_dict()['blocks'])\n",
    "# # w.snap_to_floor(2,1,1)\n",
    "# w.snap_to_floor(1,2,2)\n",
    "# w.snap_to_floor(1,2,1)\n",
    "\n",
    "utils.draw_world(w)"
   ]
  },
  {
   "cell_type": "code",
   "execution_count": null,
   "metadata": {},
   "outputs": [],
   "source": []
  },
  {
   "cell_type": "code",
   "execution_count": 60,
   "metadata": {
    "scrolled": true
   },
   "outputs": [
    {
     "name": "stdout",
     "output_type": "stream",
     "text": [
      "[{'x': 0, 'y': 0, 'height': 1, 'width': 2}, {'x': 2, 'y': 0, 'height': 1, 'width': 2}, {'x': 0, 'y': 1, 'height': 2, 'width': 1}, {'x': 3, 'y': 1, 'height': 2, 'width': 1}, {'x': 0, 'y': 3, 'height': 1, 'width': 2}, {'x': 2, 'y': 3, 'height': 1, 'width': 2}]\n"
     ]
    },
    {
     "data": {
      "image/png": "[encoded data removed]",
      "text/plain": [
       "<Figure size 288x288 with 1 Axes>"
      ]
     },
     "metadata": {
      "needs_background": "light"
     },
     "output_type": "display_data"
    }
   ],
   "source": [
    "# square window\n",
    "\n",
    "w = utils.World(block_dims = block_dims,\n",
    "              block_colors = block_colors)\n",
    "\n",
    "w.snap_to_floor(2,1,0)\n",
    "w.snap_to_floor(2,1,2)\n",
    "w.snap_to_floor(1,2,0)\n",
    "w.snap_to_floor(1,2,3)\n",
    "w.snap_to_floor(2,1,0)\n",
    "w.snap_to_floor(2,1,2)\n",
    "\n",
    "print(w.get_block_dict()['blocks'])\n",
    "# # w.snap_to_floor(2,1,1)\n",
    "# w.snap_to_floor(1,2,2)\n",
    "# w.snap_to_floor(1,2,1)\n",
    "\n",
    "utils.draw_world(w)"
   ]
  },
  {
   "cell_type": "code",
   "execution_count": 108,
   "metadata": {},
   "outputs": [
    {
     "name": "stdout",
     "output_type": "stream",
     "text": [
      "[{'x': 0, 'y': 0, 'height': 1, 'width': 2}, {'x': 2, 'y': 0, 'height': 1, 'width': 2}, {'x': 0, 'y': 1, 'height': 2, 'width': 1}, {'x': 3, 'y': 1, 'height': 2, 'width': 1}, {'x': 0, 'y': 3, 'height': 1, 'width': 2}, {'x': 2, 'y': 3, 'height': 1, 'width': 2}]\n"
     ]
    },
    {
     "data": {
      "image/png": "[encoded data removed]",
      "text/plain": [
       "<Figure size 288x288 with 1 Axes>"
      ]
     },
     "metadata": {
      "needs_background": "light"
     },
     "output_type": "display_data"
    }
   ],
   "source": [
    "# square window\n",
    "\n",
    "w = utils.World(block_dims = block_dims,\n",
    "              block_colors = block_colors)\n",
    "\n",
    "w.snap_to_floor(2,1,0)\n",
    "w.snap_to_floor(2,1,2)\n",
    "w.snap_to_floor(1,2,0)\n",
    "w.snap_to_floor(1,2,3)\n",
    "w.snap_to_floor(2,1,0)\n",
    "w.snap_to_floor(2,1,2)\n",
    "\n",
    "print(w.get_block_dict()['blocks'])\n",
    "# # w.snap_to_floor(2,1,1)\n",
    "# w.snap_to_floor(1,2,2)\n",
    "# w.snap_to_floor(1,2,1)\n",
    "\n",
    "utils.draw_world(w)"
   ]
  },
  {
   "cell_type": "code",
   "execution_count": 109,
   "metadata": {},
   "outputs": [
    {
     "name": "stdout",
     "output_type": "stream",
     "text": [
      "[{'x': 0, 'y': 0, 'height': 2, 'width': 1}, {'x': 3, 'y': 0, 'height': 2, 'width': 1}, {'x': 0, 'y': 2, 'height': 1, 'width': 2}, {'x': 2, 'y': 2, 'height': 1, 'width': 2}]\n"
     ]
    },
    {
     "data": {
      "image/png": "[encoded data removed]",
      "text/plain": [
       "<Figure size 288x288 with 1 Axes>"
      ]
     },
     "metadata": {
      "needs_background": "light"
     },
     "output_type": "display_data"
    }
   ],
   "source": [
    "# arch\n",
    "\n",
    "w = utils.World(block_dims = block_dims,\n",
    "              block_colors = block_colors)\n",
    "\n",
    "w.snap_to_floor(1,2,0)\n",
    "w.snap_to_floor(1,2,3)\n",
    "w.snap_to_floor(2,1,0)\n",
    "w.snap_to_floor(2,1,2)\n",
    "\n",
    "print(w.get_block_dict()['blocks'])\n",
    "# # w.snap_to_floor(2,1,1)\n",
    "# w.snap_to_floor(1,2,2)\n",
    "# w.snap_to_floor(1,2,1)\n",
    "\n",
    "utils.draw_world(w)"
   ]
  },
  {
   "cell_type": "code",
   "execution_count": 85,
   "metadata": {},
   "outputs": [
    {
     "name": "stdout",
     "output_type": "stream",
     "text": [
      "[{'x': 0, 'y': 0, 'height': 1, 'width': 2}, {'x': 2, 'y': 0, 'height': 1, 'width': 2}, {'x': 0, 'y': 1, 'height': 2, 'width': 1}, {'x': 3, 'y': 1, 'height': 2, 'width': 1}, {'x': 1, 'y': 1, 'height': 1, 'width': 2}, {'x': 1, 'y': 2, 'height': 1, 'width': 2}, {'x': 0, 'y': 3, 'height': 1, 'width': 2}, {'x': 2, 'y': 3, 'height': 1, 'width': 2}]\n"
     ]
    },
    {
     "data": {
      "image/png": "[encoded data removed]",
      "text/plain": [
       "<Figure size 288x288 with 1 Axes>"
      ]
     },
     "metadata": {
      "needs_background": "light"
     },
     "output_type": "display_data"
    }
   ],
   "source": [
    "# bricks\n",
    "\n",
    "w = utils.World(block_dims = block_dims,\n",
    "              block_colors = block_colors)\n",
    "\n",
    "w.snap_to_floor(2,1,0)\n",
    "w.snap_to_floor(2,1,2)\n",
    "w.snap_to_floor(1,2,0)\n",
    "w.snap_to_floor(1,2,3)\n",
    "w.snap_to_floor(2,1,1)\n",
    "w.snap_to_floor(2,1,1)\n",
    "w.snap_to_floor(2,1,0)\n",
    "w.snap_to_floor(2,1,2)\n",
    "\n",
    "print(w.get_block_dict()['blocks'])\n",
    "# # w.snap_to_floor(2,1,1)\n",
    "# w.snap_to_floor(1,2,2)\n",
    "# w.snap_to_floor(1,2,1)\n",
    "\n",
    "utils.draw_world(w)"
   ]
  },
  {
   "cell_type": "code",
   "execution_count": 107,
   "metadata": {},
   "outputs": [
    {
     "name": "stdout",
     "output_type": "stream",
     "text": [
      "[{'x': 0, 'y': 0, 'height': 1, 'width': 2}, {'x': 2, 'y': 0, 'height': 1, 'width': 2}, {'x': 0, 'y': 1, 'height': 2, 'width': 1}, {'x': 0, 'y': 3, 'height': 2, 'width': 1}, {'x': 3, 'y': 1, 'height': 2, 'width': 1}, {'x': 3, 'y': 3, 'height': 2, 'width': 1}, {'x': 0, 'y': 5, 'height': 1, 'width': 2}, {'x': 2, 'y': 5, 'height': 1, 'width': 2}]\n"
     ]
    },
    {
     "data": {
      "image/png": "[encoded data removed]",
      "text/plain": [
       "<Figure size 288x288 with 1 Axes>"
      ]
     },
     "metadata": {
      "needs_background": "light"
     },
     "output_type": "display_data"
    }
   ],
   "source": [
    "# rectangular window\n",
    "\n",
    "w = utils.World(block_dims = block_dims,\n",
    "              block_colors = block_colors)\n",
    "\n",
    "w.snap_to_floor(2,1,0)\n",
    "w.snap_to_floor(2,1,2)\n",
    "w.snap_to_floor(1,2,0)\n",
    "w.snap_to_floor(1,2,0)\n",
    "w.snap_to_floor(1,2,3)\n",
    "w.snap_to_floor(1,2,3)\n",
    "w.snap_to_floor(2,1,0)\n",
    "w.snap_to_floor(2,1,2)\n",
    "\n",
    "print(w.get_block_dict()['blocks'])\n",
    "# # w.snap_to_floor(2,1,1)\n",
    "# w.snap_to_floor(1,2,2)\n",
    "# w.snap_to_floor(1,2,1)\n",
    "\n",
    "utils.draw_world(w)"
   ]
  },
  {
   "cell_type": "code",
   "execution_count": 62,
   "metadata": {},
   "outputs": [
    {
     "name": "stdout",
     "output_type": "stream",
     "text": [
      "[{'x': 0, 'y': 0, 'height': 2, 'width': 1}, {'x': 0, 'y': 2, 'height': 2, 'width': 1}, {'x': 3, 'y': 0, 'height': 2, 'width': 1}, {'x': 3, 'y': 2, 'height': 2, 'width': 1}, {'x': 0, 'y': 4, 'height': 1, 'width': 2}, {'x': 2, 'y': 4, 'height': 1, 'width': 2}]\n"
     ]
    },
    {
     "data": {
      "image/png": "[encoded data removed]",
      "text/plain": [
       "<Figure size 288x288 with 1 Axes>"
      ]
     },
     "metadata": {
      "needs_background": "light"
     },
     "output_type": "display_data"
    }
   ],
   "source": [
    "# door\n",
    "\n",
    "w = utils.World(block_dims = block_dims,\n",
    "              block_colors = block_colors)\n",
    "\n",
    "w.snap_to_floor(1,2,0)\n",
    "w.snap_to_floor(1,2,0)\n",
    "w.snap_to_floor(1,2,3)\n",
    "w.snap_to_floor(1,2,3)\n",
    "w.snap_to_floor(2,1,0)\n",
    "w.snap_to_floor(2,1,2)\n",
    "\n",
    "print(w.get_block_dict()['blocks'])\n",
    "# # w.snap_to_floor(2,1,1)\n",
    "# w.snap_to_floor(1,2,2)\n",
    "# w.snap_to_floor(1,2,1)\n",
    "\n",
    "utils.draw_world(w)"
   ]
  },
  {
   "cell_type": "code",
   "execution_count": 71,
   "metadata": {},
   "outputs": [
    {
     "name": "stdout",
     "output_type": "stream",
     "text": [
      "[{'x': 0, 'y': 0, 'height': 1, 'width': 2}, {'x': 2, 'y': 0, 'height': 1, 'width': 2}, {'x': 0, 'y': 1, 'height': 2, 'width': 1}, {'x': 3, 'y': 1, 'height': 2, 'width': 1}, {'x': 0, 'y': 3, 'height': 1, 'width': 2}, {'x': 2, 'y': 3, 'height': 1, 'width': 2}, {'x': 0, 'y': 4, 'height': 1, 'width': 2}, {'x': 2, 'y': 4, 'height': 1, 'width': 2}, {'x': 0, 'y': 5, 'height': 2, 'width': 1}, {'x': 3, 'y': 5, 'height': 2, 'width': 1}, {'x': 0, 'y': 7, 'height': 1, 'width': 2}, {'x': 2, 'y': 7, 'height': 1, 'width': 2}, {'x': 6, 'y': 0, 'height': 2, 'width': 1}, {'x': 6, 'y': 2, 'height': 2, 'width': 1}, {'x': 9, 'y': 0, 'height': 2, 'width': 1}, {'x': 9, 'y': 2, 'height': 2, 'width': 1}, {'x': 6, 'y': 4, 'height': 1, 'width': 2}, {'x': 8, 'y': 4, 'height': 1, 'width': 2}, {'x': 6, 'y': 5, 'height': 2, 'width': 1}, {'x': 9, 'y': 5, 'height': 2, 'width': 1}, {'x': 6, 'y': 7, 'height': 1, 'width': 2}, {'x': 8, 'y': 7, 'height': 1, 'width': 2}, {'x': 12, 'y': 0, 'height': 1, 'width': 2}, {'x': 14, 'y': 0, 'height': 1, 'width': 2}, {'x': 12, 'y': 1, 'height': 2, 'width': 1}, {'x': 15, 'y': 1, 'height': 2, 'width': 1}, {'x': 12, 'y': 3, 'height': 1, 'width': 2}, {'x': 14, 'y': 3, 'height': 1, 'width': 2}, {'x': 12, 'y': 4, 'height': 1, 'width': 2}, {'x': 14, 'y': 4, 'height': 1, 'width': 2}, {'x': 12, 'y': 5, 'height': 2, 'width': 1}, {'x': 15, 'y': 5, 'height': 2, 'width': 1}, {'x': 12, 'y': 7, 'height': 1, 'width': 2}, {'x': 14, 'y': 7, 'height': 1, 'width': 2}]\n"
     ]
    },
    {
     "data": {
      "image/png": "[encoded data removed]",
      "text/plain": [
       "<Figure size 720x720 with 1 Axes>"
      ]
     },
     "metadata": {
      "needs_background": "light"
     },
     "output_type": "display_data"
    }
   ],
   "source": [
    "# square window\n",
    "\n",
    "w = utils.World(block_dims = block_dims,\n",
    "                block_colors = block_colors,\n",
    "                world_width=20,\n",
    "                world_height=20)\n",
    "\n",
    "w.snap_to_floor(2,1,0)\n",
    "w.snap_to_floor(2,1,2)\n",
    "w.snap_to_floor(1,2,0)\n",
    "w.snap_to_floor(1,2,3)\n",
    "w.snap_to_floor(2,1,0)\n",
    "w.snap_to_floor(2,1,2)\n",
    "\n",
    "w.snap_to_floor(2,1,0)\n",
    "w.snap_to_floor(2,1,2)\n",
    "w.snap_to_floor(1,2,0)\n",
    "w.snap_to_floor(1,2,3)\n",
    "w.snap_to_floor(2,1,0)\n",
    "w.snap_to_floor(2,1,2)\n",
    "\n",
    "w.snap_to_floor(1,2,6)\n",
    "w.snap_to_floor(1,2,6)\n",
    "w.snap_to_floor(1,2,9)\n",
    "w.snap_to_floor(1,2,9)\n",
    "w.snap_to_floor(2,1,6)\n",
    "w.snap_to_floor(2,1,8)\n",
    "\n",
    "w.snap_to_floor(1,2,6)\n",
    "w.snap_to_floor(1,2,9)\n",
    "w.snap_to_floor(2,1,6)\n",
    "w.snap_to_floor(2,1,8)\n",
    "\n",
    "\n",
    "w.snap_to_floor(2,1,12)\n",
    "w.snap_to_floor(2,1,14)\n",
    "w.snap_to_floor(1,2,12)\n",
    "w.snap_to_floor(1,2,15)\n",
    "w.snap_to_floor(2,1,12)\n",
    "w.snap_to_floor(2,1,14)\n",
    "\n",
    "w.snap_to_floor(2,1,12)\n",
    "w.snap_to_floor(2,1,14)\n",
    "w.snap_to_floor(1,2,12)\n",
    "w.snap_to_floor(1,2,15)\n",
    "w.snap_to_floor(2,1,12)\n",
    "w.snap_to_floor(2,1,14)\n",
    "\n",
    "print(w.get_block_dict()['blocks'])\n",
    "# # w.snap_to_floor(2,1,1)\n",
    "# w.snap_to_floor(1,2,2)\n",
    "# w.snap_to_floor(1,2,1)\n",
    "\n",
    "utils.draw_world(w)"
   ]
  },
  {
   "cell_type": "code",
   "execution_count": 86,
   "metadata": {},
   "outputs": [],
   "source": [
    "WINDOW = [{'x': 0, 'y': 0, 'height': 1, 'width': 2}, \n",
    "          {'x': 2, 'y': 0, 'height': 1, 'width': 2}, \n",
    "          {'x': 0, 'y': 1, 'height': 2, 'width': 1}, \n",
    "          {'x': 3, 'y': 1, 'height': 2, 'width': 1}, \n",
    "          {'x': 0, 'y': 3, 'height': 1, 'width': 2}, \n",
    "          {'x': 2, 'y': 3, 'height': 1, 'width': 2}]\n",
    "\n",
    "DOOR = [{'x': 0, 'y': 0, 'height': 2, 'width': 1},\n",
    "        {'x': 0, 'y': 2, 'height': 2, 'width': 1}, \n",
    "        {'x': 3, 'y': 0, 'height': 2, 'width': 1}, \n",
    "        {'x': 3, 'y': 2, 'height': 2, 'width': 1}]\n",
    "\n",
    "BRICKS = [{'x': 0, 'y': 0, 'height': 1, 'width': 2}, \n",
    "          {'x': 2, 'y': 0, 'height': 1, 'width': 2}, \n",
    "          {'x': 0, 'y': 1, 'height': 2, 'width': 1}, \n",
    "          {'x': 3, 'y': 1, 'height': 2, 'width': 1}, \n",
    "          {'x': 1, 'y': 1, 'height': 1, 'width': 2}, \n",
    "          {'x': 1, 'y': 2, 'height': 1, 'width': 2}, \n",
    "          {'x': 0, 'y': 3, 'height': 1, 'width': 2}, \n",
    "          {'x': 2, 'y': 3, 'height': 1, 'width': 2}]\n",
    "\n",
    "def window(w, x_location=0):\n",
    "    w.place_tower(WINDOW, x_location = x_location)\n",
    "    \n",
    "def door(w, x_location=0):\n",
    "    w.place_tower(DOOR, x_location = x_location)\n",
    "\n",
    "def bricks(w, x_location=0):\n",
    "    w.place_tower(BRICKS, x_location = x_location)\n",
    "    "
   ]
  },
  {
   "cell_type": "code",
   "execution_count": null,
   "metadata": {},
   "outputs": [],
   "source": []
  },
  {
   "cell_type": "code",
   "execution_count": 105,
   "metadata": {},
   "outputs": [
    {
     "data": {
      "image/png": "[encoded data removed]",
      "text/plain": [
       "<Figure size 720x720 with 1 Axes>"
      ]
     },
     "metadata": {
      "needs_background": "light"
     },
     "output_type": "display_data"
    }
   ],
   "source": [
    "w = utils.World(block_dims = block_dims,\n",
    "                block_colors = block_colors,\n",
    "                world_width=20,\n",
    "                world_height=20)\n",
    "\n",
    "window(w)\n",
    "window(w)\n",
    "\n",
    "door(w, x_location = 4)\n",
    "window(w, x_location = 4)\n",
    "\n",
    "# door(w, x_location = 4)\n",
    "# window(w, x_location = 4)\n",
    "\n",
    "window(w, x_location = 8)\n",
    "bricks(w, x_location = 8)\n",
    "\n",
    "window(w, x_location = 12)\n",
    "window(w, x_location = 12)\n",
    "\n",
    "\n",
    "utils.draw_world(w)"
   ]
  },
  {
   "cell_type": "code",
   "execution_count": null,
   "metadata": {},
   "outputs": [],
   "source": []
  },
  {
   "cell_type": "code",
   "execution_count": 97,
   "metadata": {},
   "outputs": [
    {
     "name": "stdout",
     "output_type": "stream",
     "text": [
      "[{'x': 0, 'y': 0, 'height': 2, 'width': 1}, {'x': 0, 'y': 2, 'height': 2, 'width': 1}, {'x': 4, 'y': 0, 'height': 2, 'width': 1}, {'x': 4, 'y': 2, 'height': 2, 'width': 1}, {'x': 3, 'y': 4, 'height': 1, 'width': 2}, {'x': 0, 'y': 4, 'height': 1, 'width': 2}, {'x': 2, 'y': 5, 'height': 1, 'width': 2}]\n"
     ]
    },
    {
     "data": {
      "image/png": "[encoded data removed]",
      "text/plain": [
       "<Figure size 288x288 with 1 Axes>"
      ]
     },
     "metadata": {
      "needs_background": "light"
     },
     "output_type": "display_data"
    }
   ],
   "source": [
    "# door\n",
    "\n",
    "w = utils.World(block_dims = block_dims,\n",
    "              block_colors = block_colors)\n",
    "\n",
    "w.snap_to_floor(1,2,0)\n",
    "w.snap_to_floor(1,2,0)\n",
    "w.snap_to_floor(1,2,4)\n",
    "w.snap_to_floor(1,2,4)\n",
    "w.snap_to_floor(2,1,3)\n",
    "w.snap_to_floor(2,1,0)\n",
    "w.snap_to_floor(2,1,2)\n",
    "\n",
    "print(w.get_block_dict()['blocks'])\n",
    "# # w.snap_to_floor(2,1,1)\n",
    "# w.snap_to_floor(1,2,2)\n",
    "# w.snap_to_floor(1,2,1)\n",
    "\n",
    "utils.draw_world(w)"
   ]
  },
  {
   "cell_type": "code",
   "execution_count": 127,
   "metadata": {
    "scrolled": true
   },
   "outputs": [
    {
     "name": "stdout",
     "output_type": "stream",
     "text": [
      "[{'x': 0, 'y': 0, 'height': 2, 'width': 1}, {'x': 3, 'y': 0, 'height': 2, 'width': 1}, {'x': 0, 'y': 2, 'height': 1, 'width': 2}, {'x': 2, 'y': 2, 'height': 1, 'width': 2}]\n"
     ]
    },
    {
     "data": {
      "image/png": "[encoded data removed]",
      "text/plain": [
       "<Figure size 288x288 with 1 Axes>"
      ]
     },
     "metadata": {
      "needs_background": "light"
     },
     "output_type": "display_data"
    }
   ],
   "source": [
    "w = utils.World(block_dims = block_dims,\n",
    "              block_colors = block_colors)\n",
    "\n",
    "\n",
    "w.snap_to_floor(1,2,0)\n",
    "w.snap_to_floor(1,2,3)\n",
    "w.snap_to_floor(2,1,0)\n",
    "w.snap_to_floor(2,1,2)\n",
    "\n",
    "print(w.get_block_dict()['blocks'])\n",
    "# # w.snap_to_floor(2,1,1)\n",
    "# w.snap_to_floor(1,2,2)\n",
    "# w.snap_to_floor(1,2,1)\n",
    "\n",
    "utils.draw_world(w)"
   ]
  },
  {
   "cell_type": "code",
   "execution_count": 130,
   "metadata": {},
   "outputs": [
    {
     "name": "stdout",
     "output_type": "stream",
     "text": [
      "[{'x': 0, 'y': 0, 'height': 1, 'width': 2}, {'x': 1, 'y': 1, 'height': 1, 'width': 2}, {'x': 4, 'y': 0, 'height': 1, 'width': 2}, {'x': 3, 'y': 1, 'height': 1, 'width': 2}, {'x': 0, 'y': 2, 'height': 1, 'width': 2}, {'x': 2, 'y': 2, 'height': 1, 'width': 2}, {'x': 4, 'y': 2, 'height': 1, 'width': 2}]\n"
     ]
    },
    {
     "data": {
      "image/png": "[encoded data removed]",
      "text/plain": [
       "<Figure size 288x288 with 1 Axes>"
      ]
     },
     "metadata": {
      "needs_background": "light"
     },
     "output_type": "display_data"
    }
   ],
   "source": [
    "w = utils.World(block_dims = block_dims,\n",
    "              block_colors = block_colors)\n",
    "\n",
    "\n",
    "\n",
    "w.snap_to_floor(2,1,0)\n",
    "w.snap_to_floor(2,1,1)\n",
    "w.snap_to_floor(2,1,4)\n",
    "w.snap_to_floor(2,1,3)\n",
    "w.snap_to_floor(2,1,0)\n",
    "w.snap_to_floor(2,1,2)\n",
    "w.snap_to_floor(2,1,4)\n",
    "\n",
    "print(w.get_block_dict()['blocks'])\n",
    "# # w.snap_to_floor(2,1,1)\n",
    "# w.snap_to_floor(1,2,2)\n",
    "# w.snap_to_floor(1,2,1)\n",
    "\n",
    "utils.draw_world(w)"
   ]
  },
  {
   "cell_type": "code",
   "execution_count": 132,
   "metadata": {},
   "outputs": [
    {
     "name": "stdout",
     "output_type": "stream",
     "text": [
      "[{'x': 0, 'y': 0, 'height': 1, 'width': 2}, {'x': 6, 'y': 0, 'height': 1, 'width': 2}, {'x': 1, 'y': 1, 'height': 1, 'width': 2}, {'x': 5, 'y': 1, 'height': 1, 'width': 2}, {'x': 2, 'y': 2, 'height': 1, 'width': 2}, {'x': 4, 'y': 2, 'height': 1, 'width': 2}, {'x': 0, 'y': 2, 'height': 1, 'width': 2}, {'x': 6, 'y': 2, 'height': 1, 'width': 2}]\n"
     ]
    },
    {
     "data": {
      "image/png": "[encoded data removed]",
      "text/plain": [
       "<Figure size 288x288 with 1 Axes>"
      ]
     },
     "metadata": {
      "needs_background": "light"
     },
     "output_type": "display_data"
    }
   ],
   "source": [
    "w = utils.World(block_dims = block_dims,\n",
    "              block_colors = block_colors)\n",
    "\n",
    "\n",
    "w.snap_to_floor(2,1,0)\n",
    "w.snap_to_floor(2,1,6)\n",
    "w.snap_to_floor(2,1,1)\n",
    "w.snap_to_floor(2,1,5)\n",
    "w.snap_to_floor(2,1,2)\n",
    "w.snap_to_floor(2,1,4)\n",
    "w.snap_to_floor(2,1,0)\n",
    "w.snap_to_floor(2,1,6)\n",
    "\n",
    "print(w.get_block_dict()['blocks'])\n",
    "# # w.snap_to_floor(2,1,1)\n",
    "# w.snap_to_floor(1,2,2)\n",
    "# w.snap_to_floor(1,2,1)\n",
    "\n",
    "utils.draw_world(w)"
   ]
  },
  {
   "cell_type": "code",
   "execution_count": 125,
   "metadata": {},
   "outputs": [
    {
     "name": "stdout",
     "output_type": "stream",
     "text": [
      "[{'x': 0, 'y': 0, 'height': 1, 'width': 2}, {'x': 6, 'y': 0, 'height': 1, 'width': 2}, {'x': 1, 'y': 1, 'height': 1, 'width': 2}, {'x': 5, 'y': 1, 'height': 1, 'width': 2}, {'x': 2, 'y': 2, 'height': 1, 'width': 2}, {'x': 4, 'y': 2, 'height': 1, 'width': 2}, {'x': 0, 'y': 1, 'height': 2, 'width': 1}, {'x': 7, 'y': 1, 'height': 2, 'width': 1}]\n"
     ]
    },
    {
     "data": {
      "image/png": "[encoded data removed]",
      "text/plain": [
       "<Figure size 288x288 with 1 Axes>"
      ]
     },
     "metadata": {
      "needs_background": "light"
     },
     "output_type": "display_data"
    }
   ],
   "source": [
    "w = utils.World(block_dims = block_dims,\n",
    "              block_colors = block_colors)\n",
    "\n",
    "\n",
    "w.snap_to_floor(2,1,0)\n",
    "w.snap_to_floor(2,1,6)\n",
    "w.snap_to_floor(2,1,1)\n",
    "w.snap_to_floor(2,1,5)\n",
    "w.snap_to_floor(2,1,2)\n",
    "w.snap_to_floor(2,1,4)\n",
    "w.snap_to_floor(1,2,0)\n",
    "w.snap_to_floor(1,2,7)\n",
    "\n",
    "print(w.get_block_dict()['blocks'])\n",
    "# # w.snap_to_floor(2,1,1)\n",
    "# w.snap_to_floor(1,2,2)\n",
    "# w.snap_to_floor(1,2,1)\n",
    "\n",
    "utils.draw_world(w)"
   ]
  },
  {
   "cell_type": "code",
   "execution_count": 20,
   "metadata": {},
   "outputs": [
    {
     "name": "stdout",
     "output_type": "stream",
     "text": [
      "[{'x': 0, 'y': 0, 'height': 1, 'width': 2}, {'x': 2, 'y': 0, 'height': 1, 'width': 2}, {'x': 4, 'y': 0, 'height': 1, 'width': 2}, {'x': 6, 'y': 0, 'height': 1, 'width': 2}, {'x': 8, 'y': 0, 'height': 1, 'width': 2}, {'x': 1, 'y': 1, 'height': 1, 'width': 2}, {'x': 3, 'y': 1, 'height': 1, 'width': 2}, {'x': 5, 'y': 1, 'height': 1, 'width': 2}, {'x': 7, 'y': 1, 'height': 1, 'width': 2}, {'x': 2, 'y': 2, 'height': 1, 'width': 2}, {'x': 4, 'y': 2, 'height': 1, 'width': 2}, {'x': 6, 'y': 2, 'height': 1, 'width': 2}, {'x': 3, 'y': 3, 'height': 1, 'width': 2}, {'x': 5, 'y': 3, 'height': 1, 'width': 2}, {'x': 4, 'y': 4, 'height': 1, 'width': 2}, {'x': 2, 'y': 3, 'height': 2, 'width': 1}, {'x': 1, 'y': 2, 'height': 2, 'width': 1}, {'x': 1, 'y': 4, 'height': 2, 'width': 1}, {'x': 0, 'y': 1, 'height': 2, 'width': 1}, {'x': 0, 'y': 3, 'height': 2, 'width': 1}]\n"
     ]
    },
    {
     "data": {
      "image/png": "[encoded data removed]",
      "text/plain": [
       "<Figure size 288x288 with 1 Axes>"
      ]
     },
     "metadata": {
      "needs_background": "light"
     },
     "output_type": "display_data"
    },
    {
     "data": {
      "image/png": "[encoded data removed]",
      "text/plain": [
       "<Figure size 288x288 with 1 Axes>"
      ]
     },
     "execution_count": 20,
     "metadata": {},
     "output_type": "execute_result"
    }
   ],
   "source": [
    "w = utils.World(block_dims = block_dims,\n",
    "              block_colors = block_colors)\n",
    "\n",
    "\n",
    "w.snap_to_floor(2,1,0)\n",
    "w.snap_to_floor(2,1,2)\n",
    "w.snap_to_floor(2,1,4)\n",
    "w.snap_to_floor(2,1,6)\n",
    "w.snap_to_floor(2,1,8)\n",
    "\n",
    "w.snap_to_floor(2,1,1)\n",
    "w.snap_to_floor(2,1,3)\n",
    "w.snap_to_floor(2,1,5)\n",
    "w.snap_to_floor(2,1,7)\n",
    "\n",
    "w.snap_to_floor(2,1,2)\n",
    "w.snap_to_floor(2,1,4)\n",
    "w.snap_to_floor(2,1,6)\n",
    "\n",
    "w.snap_to_floor(2,1,3)\n",
    "w.snap_to_floor(2,1,5)\n",
    "\n",
    "w.snap_to_floor(2,1,4)\n",
    "\n",
    "\n",
    "w.snap_to_floor(1,2,2)\n",
    "w.snap_to_floor(1,2,1)\n",
    "w.snap_to_floor(1,2,1)\n",
    "w.snap_to_floor(1,2,0)\n",
    "w.snap_to_floor(1,2,0)\n",
    "\n",
    "\n",
    "print(w.get_block_dict()['blocks'])\n",
    "# # w.snap_to_floor(2,1,1)\n",
    "# w.snap_to_floor(1,2,2)\n",
    "# w.snap_to_floor(1,2,1)\n",
    "\n",
    "utils.draw_world(w)"
   ]
  },
  {
   "cell_type": "code",
   "execution_count": 32,
   "metadata": {},
   "outputs": [
    {
     "data": {
      "image/png": "[encoded data removed]",
      "text/plain": [
       "<Figure size 720x720 with 1 Axes>"
      ]
     },
     "metadata": {
      "needs_background": "light"
     },
     "output_type": "display_data"
    }
   ],
   "source": [
    "ws = utils.World(block_dims = block_dims,\n",
    "                 block_colors = block_colors,\n",
    "                 world_width=20,\n",
    "                 world_height=20)\n",
    "\n",
    "\n",
    "ws.snap_to_floor(2,1,3)\n",
    "ws.snap_to_floor(2,1,5)\n",
    "ws.snap_to_floor(1,2,3)\n",
    "ws.snap_to_floor(1,2,6)\n",
    "ws.snap_to_floor(2,1,3)\n",
    "ws.snap_to_floor(2,1,5)\n",
    "\n",
    "ws.snap_to_floor(1,2,13)\n",
    "ws.snap_to_floor(1,2,16)\n",
    "ws.snap_to_floor(2,1,13)\n",
    "ws.snap_to_floor(2,1,15)\n",
    "ws.snap_to_floor(2,1,14)\n",
    "\n",
    "\n",
    "fig = utils.draw_world(ws)\n",
    "\n",
    "fig.savefig('structures_demo_stim.png', facecolor='w',transparent=False)"
   ]
  },
  {
   "cell_type": "code",
   "execution_count": 31,
   "metadata": {},
   "outputs": [],
   "source": [
    "! open ."
   ]
  },
  {
   "cell_type": "code",
   "execution_count": null,
   "metadata": {},
   "outputs": [],
   "source": []
  }
 ],
 "metadata": {
  "kernelspec": {
   "display_name": "Python 3",
   "language": "python",
   "name": "python3"
  },
  "language_info": {
   "codemirror_mode": {
    "name": "ipython",
    "version": 3
   },
   "file_extension": ".py",
   "mimetype": "text/x-python",
   "name": "python",
   "nbconvert_exporter": "python",
   "pygments_lexer": "ipython3",
   "version": "3.9.5"
  }
 },
 "nbformat": 4,
 "nbformat_minor": 2
}
